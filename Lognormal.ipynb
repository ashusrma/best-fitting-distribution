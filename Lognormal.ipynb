{
 "cells": [
  {
   "cell_type": "code",
   "execution_count": 35,
   "metadata": {},
   "outputs": [],
   "source": [
    "import numpy as np\n",
    "import scipy as sp\n",
    "from scipy import stats\n",
    "import matplotlib.pyplot as plt\n",
    "%matplotlib inline"
   ]
  },
  {
   "cell_type": "code",
   "execution_count": 52,
   "metadata": {},
   "outputs": [
    {
     "data": {
      "text/plain": [
       "(862.08, 4992.05, 2465.6506, 848.2686964327047, 719559.7813476402)"
      ]
     },
     "execution_count": 52,
     "metadata": {},
     "output_type": "execute_result"
    }
   ],
   "source": [
    "samp = np.loadtxt('170170.txt', usecols=3)\n",
    "MIN=samp.min();MAX=samp.max();MEAN=samp.mean();STD=samp.std();VAR=samp.var()\n",
    "MIN,MAX,MEAN,STD,VAR"
   ]
  },
  {
   "cell_type": "code",
   "execution_count": 53,
   "metadata": {},
   "outputs": [],
   "source": [
    "param = stats.lognorm.fit(samp,floc=0) # distribution fitting\n",
    "\n",
    "x = np.linspace(MIN,MAX,1000) # fitted distribution\n",
    "pdf_fitted = stats.lognorm.pdf(x, *param)"
   ]
  },
  {
   "cell_type": "code",
   "execution_count": 54,
   "metadata": {},
   "outputs": [
    {
     "data": {
      "text/plain": [
       "(7.754649481161168, 0.3321544298882138)"
      ]
     },
     "execution_count": 54,
     "metadata": {},
     "output_type": "execute_result"
    }
   ],
   "source": [
    "np.log(param[2]), param[0]"
   ]
  },
  {
   "cell_type": "code",
   "execution_count": 55,
   "metadata": {},
   "outputs": [
    {
     "data": {
      "text/plain": [
       "array([2464.66891686])"
      ]
     },
     "execution_count": 55,
     "metadata": {},
     "output_type": "execute_result"
    }
   ],
   "source": [
    "np.exp([np.log(param[2]) + (param[0] ** 2)/2])"
   ]
  },
  {
   "cell_type": "code",
   "execution_count": 56,
   "metadata": {},
   "outputs": [
    {
     "name": "stdout",
     "output_type": "stream",
     "text": [
      "Power_divergenceResult(statistic=11.442921417821147, pvalue=0.12043198363708345)\n",
      "12.67775660172093\n"
     ]
    },
    {
     "data": {
      "image/png": "[encoded data removed]",
      "text/plain": [
       "<Figure size 432x288 with 1 Axes>"
      ]
     },
     "metadata": {
      "needs_background": "light"
     },
     "output_type": "display_data"
    }
   ],
   "source": [
    "# chi-square\n",
    "counts, edges, plot = plt.hist(samp,bins=10,alpha=0.4)\n",
    "\n",
    "summ = 0\n",
    "for i in range(0,10):\n",
    "    upper_cdf = stats.lognorm.cdf(edges[i+1], *param)\n",
    "    lower_cdf = stats.lognorm.cdf(edges[i], *param)\n",
    "    summ += (counts[i]**2/(100*(upper_cdf-lower_cdf)))\n",
    "chi_statistic = summ - 100\n",
    "\n",
    "exp_counts = np.array([])\n",
    "for i in range(0,10):\n",
    "    upper_cdf = stats.lognorm.cdf(edges[i+1], *param)\n",
    "    lower_cdf = stats.lognorm.cdf(edges[i], *param)\n",
    "    exp_counts = np.append(exp_counts, 100 * (upper_cdf - lower_cdf))\n",
    "print(stats.chisquare(counts,exp_counts,ddof=2))\n",
    "print(chi_statistic)"
   ]
  },
  {
   "cell_type": "code",
   "execution_count": 57,
   "metadata": {},
   "outputs": [
    {
     "data": {
      "text/plain": [
       "KstestResult(statistic=0.07275191827965533, pvalue=0.6617725267186119)"
      ]
     },
     "execution_count": 57,
     "metadata": {},
     "output_type": "execute_result"
    }
   ],
   "source": [
    "stats.kstest(samp,'lognorm',args = (param[0],param[1],param[2]))"
   ]
  },
  {
   "cell_type": "code",
   "execution_count": 58,
   "metadata": {},
   "outputs": [
    {
     "data": {
      "text/plain": [
       "(array([4.84265019e-05, 3.63198764e-04, 5.81118023e-04, 4.11625266e-04,\n",
       "        4.35838517e-04, 2.42132509e-04, 1.21066255e-04, 7.26397528e-05,\n",
       "        4.84265019e-05, 9.68530038e-05]),\n",
       " array([ 862.08 , 1275.077, 1688.074, 2101.071, 2514.068, 2927.065,\n",
       "        3340.062, 3753.059, 4166.056, 4579.053, 4992.05 ]),\n",
       " <a list of 10 Patch objects>)"
      ]
     },
     "execution_count": 58,
     "metadata": {},
     "output_type": "execute_result"
    },
    {
     "data": {
      "image/png": "[encoded data removed]",
      "text/plain": [
       "<Figure size 432x288 with 1 Axes>"
      ]
     },
     "metadata": {
      "needs_background": "light"
     },
     "output_type": "display_data"
    }
   ],
   "source": [
    "fig,axes = plt.subplots()\n",
    "\n",
    "axes.plot(x,pdf_fitted,'r',lw=2.5)\n",
    "axes.set_xlabel('x')\n",
    "axes.set_ylabel('pdf')\n",
    "axes.set_title('Lognormal Distribution')\n",
    "fig.tight_layout()\n",
    "\n",
    "plt.hist(samp,alpha=0.4,density=True)"
   ]
  },
  {
   "cell_type": "code",
   "execution_count": 59,
   "metadata": {},
   "outputs": [
    {
     "data": {
      "text/plain": [
       "1618.2865492834098"
      ]
     },
     "execution_count": 59,
     "metadata": {},
     "output_type": "execute_result"
    }
   ],
   "source": [
    "k = 2\n",
    "logLik = np.sum(stats.lognorm.logpdf(samp, *param)) \n",
    "aic = 2*k - 2*(logLik)\n",
    "aic"
   ]
  }
 ],
 "metadata": {
  "kernelspec": {
   "display_name": "Python 3",
   "language": "python",
   "name": "python3"
  },
  "language_info": {
   "codemirror_mode": {
    "name": "ipython",
    "version": 3
   },
   "file_extension": ".py",
   "mimetype": "text/x-python",
   "name": "python",
   "nbconvert_exporter": "python",
   "pygments_lexer": "ipython3",
   "version": "3.7.3"
  }
 },
 "nbformat": 4,
 "nbformat_minor": 4
}

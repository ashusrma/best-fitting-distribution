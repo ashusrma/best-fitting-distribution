{
 "cells": [
  {
   "cell_type": "code",
   "execution_count": 155,
   "metadata": {},
   "outputs": [],
   "source": [
    "import numpy as np\n",
    "import scipy as sp\n",
    "from scipy import stats"
   ]
  },
  {
   "cell_type": "code",
   "execution_count": 156,
   "metadata": {},
   "outputs": [],
   "source": [
    "samp = np.loadtxt('170170.txt', usecols=3)"
   ]
  },
  {
   "cell_type": "code",
   "execution_count": 157,
   "metadata": {},
   "outputs": [
    {
     "data": {
      "text/plain": [
       "array([2037.64, 1914.04, 4910.98, 1922.68, 2365.08, 1661.01, 1968.23,\n",
       "       1601.16, 2423.64, 1973.87, 1979.66, 1770.92, 2760.33, 3428.08,\n",
       "       3482.23, 2694.49, 2580.02, 1683.1 , 1311.26, 4694.9 , 1916.47,\n",
       "       4001.77, 1588.89, 2177.92, 2081.15, 2052.19, 2760.95, 3073.86,\n",
       "       2131.67, 1948.88, 1905.84, 1541.3 , 2135.39, 1587.66, 2845.48,\n",
       "       3407.59, 2932.  , 1865.2 , 2547.53, 3462.5 , 1964.64, 4125.24,\n",
       "       2213.18, 1495.51, 2253.62, 4219.41, 4992.05, 2424.97, 2929.51,\n",
       "       1373.16, 1994.52, 2844.62, 1931.88, 1350.76, 2571.8 , 2073.5 ,\n",
       "       1388.38, 1836.56, 3193.62, 2172.08, 2837.41, 2425.22, 2142.  ,\n",
       "       2266.77, 2571.09, 2211.53, 2716.51, 3134.15, 1597.74, 4737.3 ,\n",
       "       1584.1 , 2072.01, 1784.61, 2932.48, 1969.82, 3275.79, 2431.59,\n",
       "       2621.86, 2039.46, 2690.89, 2177.94, 4194.79, 2877.69, 2143.65,\n",
       "       1857.08, 3086.18, 2103.94, 2876.13, 1532.69, 1218.62, 2782.67,\n",
       "       3187.43, 2760.19, 1768.9 ,  862.08, 3144.8 , 2648.23, 1387.35,\n",
       "       3462.31, 3973.49])"
      ]
     },
     "execution_count": 157,
     "metadata": {},
     "output_type": "execute_result"
    }
   ],
   "source": [
    "samp"
   ]
  },
  {
   "cell_type": "code",
   "execution_count": 160,
   "metadata": {},
   "outputs": [
    {
     "data": {
      "text/plain": [
       "(862.08, 4992.05, 2465.6506, 848.2686964327047, 719559.7813476402)"
      ]
     },
     "execution_count": 160,
     "metadata": {},
     "output_type": "execute_result"
    }
   ],
   "source": [
    "MIN=samp.min();MAX=samp.max();MEAN=samp.mean();STD=samp.std();VAR=samp.var()\n",
    "MIN,MAX,MEAN,STD,VAR"
   ]
  },
  {
   "cell_type": "code",
   "execution_count": 162,
   "metadata": {},
   "outputs": [
    {
     "data": {
      "text/plain": [
       "AndersonResult(statistic=0.3296715806778536, critical_values=array([0.465, 0.625, 0.742, 0.86 , 1.018]), significance_level=array([25. , 10. ,  5. ,  2.5,  1. ]))"
      ]
     },
     "execution_count": 162,
     "metadata": {},
     "output_type": "execute_result"
    }
   ],
   "source": [
    "stats.anderson(samp, 'gumbel_r')"
   ]
  },
  {
   "cell_type": "code",
   "execution_count": 164,
   "metadata": {},
   "outputs": [
    {
     "data": {
      "text/plain": [
       "KstestResult(statistic=0.07742530231936046, pvalue=0.573286838488791)"
      ]
     },
     "execution_count": 164,
     "metadata": {},
     "output_type": "execute_result"
    }
   ],
   "source": [
    "param = stats.pearson3.fit(samp,loc=0)\n",
    "stats.kstest(samp,'pearson3',args = (param[0],param[1],param[2]))"
   ]
  },
  {
   "cell_type": "code",
   "execution_count": 123,
   "metadata": {},
   "outputs": [
    {
     "data": {
      "text/plain": [
       "3732.195234589341"
      ]
     },
     "execution_count": 123,
     "metadata": {},
     "output_type": "execute_result"
    }
   ],
   "source": [
    "params = stats.norm.fit(samp)\n",
    "dis = stats.norm.ppf(0.98,*param)\n",
    "dis"
   ]
  },
  {
   "cell_type": "code",
   "execution_count": 125,
   "metadata": {},
   "outputs": [
    {
     "data": {
      "text/plain": [
       "0.98"
      ]
     },
     "execution_count": 125,
     "metadata": {},
     "output_type": "execute_result"
    }
   ],
   "source": [
    "prob = stats.norm.cdf(stats.norm.ppf(0.98,*param),*param)\n",
    "prob"
   ]
  },
  {
   "cell_type": "code",
   "execution_count": null,
   "metadata": {},
   "outputs": [],
   "source": []
  }
 ],
 "metadata": {
  "kernelspec": {
   "display_name": "Python 3",
   "language": "python",
   "name": "python3"
  },
  "language_info": {
   "codemirror_mode": {
    "name": "ipython",
    "version": 3
   },
   "file_extension": ".py",
   "mimetype": "text/x-python",
   "name": "python",
   "nbconvert_exporter": "python",
   "pygments_lexer": "ipython3",
   "version": "3.7.3"
  }
 },
 "nbformat": 4,
 "nbformat_minor": 4
}

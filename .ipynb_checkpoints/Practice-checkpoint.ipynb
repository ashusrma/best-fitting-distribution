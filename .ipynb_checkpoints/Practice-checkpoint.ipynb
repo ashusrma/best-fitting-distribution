{
 "cells": [
  {
   "cell_type": "code",
   "execution_count": 24,
   "metadata": {},
   "outputs": [],
   "source": [
    "import numpy as np\n",
    "import scipy as sp\n",
    "from scipy import stats"
   ]
  },
  {
   "cell_type": "code",
   "execution_count": 13,
   "metadata": {},
   "outputs": [],
   "source": [
    "data = np.loadtxt('170170.txt', usecols = 0)"
   ]
  },
  {
   "cell_type": "code",
   "execution_count": 14,
   "metadata": {},
   "outputs": [
    {
     "data": {
      "text/plain": [
       "array([1008.71,  729.62, 3622.78, 3743.6 , 2325.87, 3090.03, 1849.51,\n",
       "       2246.44, 3361.61, 2555.94, 2848.5 ,  292.71, 1108.92, 3318.21,\n",
       "       3568.61, 1654.85, 2107.94, 2977.04, 2865.82, 3094.53, 1688.29,\n",
       "       1545.33, 2420.95, 2187.7 , 2470.04, 2477.66, 3031.76, 1470.86,\n",
       "       1061.06, 1927.28, 2825.55, 2149.8 , 1451.48, 4356.24, 1412.78,\n",
       "       3913.54, 3106.94, 2182.84, 2117.9 , 2441.96, 3453.06, 4581.  ,\n",
       "       2265.87, 2129.5 , 1471.5 , 2164.09, 2378.16, 2916.29, 2406.53,\n",
       "        892.42, 2165.36, 3562.74, 1003.62, 1604.68, 1604.2 , 1111.86,\n",
       "       2146.99,  872.08, 3213.88, 3458.76, 2295.44, 1882.55, 2015.79,\n",
       "       1645.2 , 3171.14, 3830.35, 3071.9 , 2461.93, 2575.42, 3082.68,\n",
       "       2471.35, 3932.98, 3988.65, 1991.33, 2601.73, 1645.06, 2901.94,\n",
       "       2546.5 , 2057.09, 2528.36, 2781.65,  603.42, 1013.63, 2868.44,\n",
       "       2437.72,  839.1 , 3611.45,  252.7 , 3540.8 , 1038.54, 3267.33,\n",
       "       1923.86, 3369.38, 2598.2 , 1876.34, 2276.93, 2876.79, 1988.63,\n",
       "       1998.13, 2151.18])"
      ]
     },
     "execution_count": 14,
     "metadata": {},
     "output_type": "execute_result"
    }
   ],
   "source": [
    "data"
   ]
  },
  {
   "cell_type": "code",
   "execution_count": 15,
   "metadata": {},
   "outputs": [
    {
     "data": {
      "text/plain": [
       "100"
      ]
     },
     "execution_count": 15,
     "metadata": {},
     "output_type": "execute_result"
    }
   ],
   "source": [
    "data.size"
   ]
  },
  {
   "cell_type": "code",
   "execution_count": 21,
   "metadata": {},
   "outputs": [],
   "source": [
    "mean = sp.mean(data)"
   ]
  },
  {
   "cell_type": "code",
   "execution_count": 22,
   "metadata": {},
   "outputs": [
    {
     "data": {
      "text/plain": [
       "2360.2540000000004"
      ]
     },
     "execution_count": 22,
     "metadata": {},
     "output_type": "execute_result"
    }
   ],
   "source": [
    "mean"
   ]
  },
  {
   "cell_type": "code",
   "execution_count": 26,
   "metadata": {},
   "outputs": [
    {
     "name": "stdout",
     "output_type": "stream",
     "text": [
      "ModeResult(mode=array([252.7]), count=array([1]))\n"
     ]
    }
   ],
   "source": [
    "mode = stats.mode(data)\n",
    "print(mode)"
   ]
  },
  {
   "cell_type": "code",
   "execution_count": null,
   "metadata": {},
   "outputs": [],
   "source": []
  }
 ],
 "metadata": {
  "kernelspec": {
   "display_name": "Python 3",
   "language": "python",
   "name": "python3"
  },
  "language_info": {
   "codemirror_mode": {
    "name": "ipython",
    "version": 3
   },
   "file_extension": ".py",
   "mimetype": "text/x-python",
   "name": "python",
   "nbconvert_exporter": "python",
   "pygments_lexer": "ipython3",
   "version": "3.7.3"
  }
 },
 "nbformat": 4,
 "nbformat_minor": 2
}

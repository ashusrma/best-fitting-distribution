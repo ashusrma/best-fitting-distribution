{
 "cells": [
  {
   "cell_type": "code",
   "execution_count": 87,
   "metadata": {},
   "outputs": [],
   "source": [
    "import numpy as np\n",
    "import scipy as sp\n",
    "from scipy import stats\n",
    "import matplotlib.pyplot as plt\n",
    "%matplotlib inline"
   ]
  },
  {
   "cell_type": "code",
   "execution_count": 88,
   "metadata": {},
   "outputs": [
    {
     "data": {
      "text/plain": [
       "(1527.85, 6831.3, 2471.2782, 1061.9694483659878, 1127779.1092627603)"
      ]
     },
     "execution_count": 88,
     "metadata": {},
     "output_type": "execute_result"
    }
   ],
   "source": [
    "samp = np.loadtxt('170170.txt', usecols=4)\n",
    "MIN=samp.min();MAX=samp.max();MEAN=samp.mean();STD=samp.std();VAR=samp.var()\n",
    "MIN,MAX,MEAN,STD,VAR"
   ]
  },
  {
   "cell_type": "code",
   "execution_count": 89,
   "metadata": {},
   "outputs": [],
   "source": [
    "param = stats.pearson3.fit(samp,loc=0) # distribution fitting\n",
    "\n",
    "x = np.linspace(MIN,MAX,1000) # fitted distribution\n",
    "pdf_fitted = stats.pearson3.pdf(x, *param)"
   ]
  },
  {
   "cell_type": "code",
   "execution_count": 90,
   "metadata": {},
   "outputs": [
    {
     "data": {
      "text/plain": [
       "(0.0008133827305993075, 0.7461290347143725, 1553.9621485950015)"
      ]
     },
     "execution_count": 90,
     "metadata": {},
     "output_type": "execute_result"
    }
   ],
   "source": [
    "lambdaa = 2/(stats.skew(samp) * STD)\n",
    "kay = (STD * lambdaa) ** 2\n",
    "epsilon = MEAN - kay/lambdaa\n",
    "lambdaa, kay, epsilon"
   ]
  },
  {
   "cell_type": "code",
   "execution_count": 91,
   "metadata": {},
   "outputs": [
    {
     "name": "stdout",
     "output_type": "stream",
     "text": [
      "Power_divergenceResult(statistic=31.402156708721037, pvalue=2.1238389521219528e-05)\n",
      "31.917635588307178\n"
     ]
    },
    {
     "data": {
      "image/png": "[encoded data removed]",
      "text/plain": [
       "<Figure size 432x288 with 1 Axes>"
      ]
     },
     "metadata": {
      "needs_background": "light"
     },
     "output_type": "display_data"
    }
   ],
   "source": [
    "# chi-square\n",
    "counts, edges, plot = plt.hist(samp,bins=10,alpha=0.4)\n",
    "\n",
    "summ = 0\n",
    "for i in range(0,10):\n",
    "    upper_cdf = stats.pearson3.cdf(edges[i+1], *param)\n",
    "    lower_cdf = stats.pearson3.cdf(edges[i], *param)\n",
    "    summ += (counts[i]**2/(100*(upper_cdf-lower_cdf)))\n",
    "chi_statistic = summ - 100\n",
    "\n",
    "exp_counts = np.array([])\n",
    "for i in range(0,10):\n",
    "    upper_cdf = stats.pearson3.cdf(edges[i+1], *param)\n",
    "    lower_cdf = stats.pearson3.cdf(edges[i], *param)\n",
    "    exp_counts = np.append(exp_counts, 100 * (upper_cdf - lower_cdf))\n",
    "print(stats.chisquare(counts,exp_counts,ddof=3))\n",
    "print(chi_statistic)"
   ]
  },
  {
   "cell_type": "code",
   "execution_count": 93,
   "metadata": {},
   "outputs": [
    {
     "data": {
      "text/plain": [
       "KstestResult(statistic=0.0630431863331079, pvalue=0.8216121464685041)"
      ]
     },
     "execution_count": 93,
     "metadata": {},
     "output_type": "execute_result"
    }
   ],
   "source": [
    "stats.kstest(samp,'pearson3',args = (param[0],param[1],param[2]))"
   ]
  },
  {
   "cell_type": "code",
   "execution_count": 94,
   "metadata": {},
   "outputs": [
    {
     "data": {
      "text/plain": [
       "(array([8.48504276e-04, 4.14824312e-04, 3.77113011e-04, 5.65669517e-05,\n",
       "        7.54226023e-05, 0.00000000e+00, 3.77113011e-05, 0.00000000e+00,\n",
       "        1.88556506e-05, 5.65669517e-05]),\n",
       " array([1527.85 , 2058.195, 2588.54 , 3118.885, 3649.23 , 4179.575,\n",
       "        4709.92 , 5240.265, 5770.61 , 6300.955, 6831.3  ]),\n",
       " <a list of 10 Patch objects>)"
      ]
     },
     "execution_count": 94,
     "metadata": {},
     "output_type": "execute_result"
    },
    {
     "data": {
      "image/png": "[encoded data removed]",
      "text/plain": [
       "<Figure size 432x288 with 1 Axes>"
      ]
     },
     "metadata": {
      "needs_background": "light"
     },
     "output_type": "display_data"
    }
   ],
   "source": [
    "fig,axes = plt.subplots()\n",
    "\n",
    "axes.plot(x,pdf_fitted,'r',lw=2.5)\n",
    "axes.set_xlabel('x')\n",
    "axes.set_ylabel('pdf')\n",
    "axes.set_title('Pearson Type 3 Distribution')\n",
    "fig.tight_layout()\n",
    "\n",
    "plt.hist(samp,alpha=0.4,density=True)"
   ]
  },
  {
   "cell_type": "code",
   "execution_count": 95,
   "metadata": {},
   "outputs": [
    {
     "data": {
      "text/plain": [
       "1569.3108758471192"
      ]
     },
     "execution_count": 95,
     "metadata": {},
     "output_type": "execute_result"
    }
   ],
   "source": [
    "k = 3\n",
    "logLik = np.sum(stats.pearson3.logpdf(samp, *param)) \n",
    "aic = 2*k - 2*(logLik)\n",
    "aic"
   ]
  },
  {
   "cell_type": "code",
   "execution_count": 96,
   "metadata": {},
   "outputs": [
    {
     "data": {
      "text/plain": [
       "5417.289232785233"
      ]
     },
     "execution_count": 96,
     "metadata": {},
     "output_type": "execute_result"
    }
   ],
   "source": [
    "dis = stats.pearson3.ppf(0.98,*param)\n",
    "dis"
   ]
  }
 ],
 "metadata": {
  "kernelspec": {
   "display_name": "Python 3",
   "language": "python",
   "name": "python3"
  },
  "language_info": {
   "codemirror_mode": {
    "name": "ipython",
    "version": 3
   },
   "file_extension": ".py",
   "mimetype": "text/x-python",
   "name": "python",
   "nbconvert_exporter": "python",
   "pygments_lexer": "ipython3",
   "version": "3.7.3"
  }
 },
 "nbformat": 4,
 "nbformat_minor": 4
}
